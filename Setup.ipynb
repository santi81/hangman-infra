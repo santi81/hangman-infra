{
 "cells": [
  {
   "cell_type": "markdown",
   "metadata": {},
   "source": [
    "###### INSTALL AMBASSADOR"
   ]
  },
  {
   "cell_type": "code",
   "execution_count": 2,
   "metadata": {},
   "outputs": [
    {
     "name": "stdout",
     "output_type": "stream",
     "text": [
      "clusterrolebinding.rbac.authorization.k8s.io/my-cluster-admin-binding created\n"
     ]
    }
   ],
   "source": [
    "!kubectl create clusterrolebinding my-cluster-admin-binding --clusterrole=cluster-admin --user=$(gcloud info --format=\"value(config.account)\")!"
   ]
  },
  {
   "cell_type": "code",
   "execution_count": 3,
   "metadata": {},
   "outputs": [
    {
     "name": "stdout",
     "output_type": "stream",
     "text": [
      "customresourcedefinition.apiextensions.k8s.io/authservices.getambassador.io created\n",
      "customresourcedefinition.apiextensions.k8s.io/consulresolvers.getambassador.io created\n",
      "customresourcedefinition.apiextensions.k8s.io/hosts.getambassador.io created\n",
      "customresourcedefinition.apiextensions.k8s.io/kubernetesendpointresolvers.getambassador.io created\n",
      "customresourcedefinition.apiextensions.k8s.io/kubernetesserviceresolvers.getambassador.io created\n",
      "customresourcedefinition.apiextensions.k8s.io/logservices.getambassador.io created\n",
      "customresourcedefinition.apiextensions.k8s.io/mappings.getambassador.io created\n",
      "customresourcedefinition.apiextensions.k8s.io/modules.getambassador.io created\n",
      "customresourcedefinition.apiextensions.k8s.io/ratelimitservices.getambassador.io created\n",
      "customresourcedefinition.apiextensions.k8s.io/tcpmappings.getambassador.io created\n",
      "customresourcedefinition.apiextensions.k8s.io/tlscontexts.getambassador.io created\n",
      "customresourcedefinition.apiextensions.k8s.io/tracingservices.getambassador.io created\n"
     ]
    }
   ],
   "source": [
    "!kubectl apply -f https://www.getambassador.io/yaml/ambassador/ambassador-crds.yaml"
   ]
  },
  {
   "cell_type": "code",
   "execution_count": 4,
   "metadata": {},
   "outputs": [
    {
     "name": "stdout",
     "output_type": "stream",
     "text": [
      "service/ambassador-admin created\n",
      "clusterrole.rbac.authorization.k8s.io/ambassador created\n",
      "serviceaccount/ambassador created\n",
      "clusterrolebinding.rbac.authorization.k8s.io/ambassador created\n",
      "deployment.apps/ambassador created\n"
     ]
    }
   ],
   "source": [
    "!kubectl apply -f https://www.getambassador.io/yaml/ambassador/ambassador-rbac.yaml"
   ]
  },
  {
   "cell_type": "code",
   "execution_count": 70,
   "metadata": {},
   "outputs": [
    {
     "name": "stdout",
     "output_type": "stream",
     "text": [
      "service/ambassador configured\n"
     ]
    }
   ],
   "source": [
    "!kubectl apply -f k8s/ambassador/ambassador-service.yaml"
   ]
  },
  {
   "cell_type": "code",
   "execution_count": 8,
   "metadata": {},
   "outputs": [
    {
     "name": "stdout",
     "output_type": "stream",
     "text": [
      "deployment.apps/kubernetes-tutorial-deployment created\n"
     ]
    }
   ],
   "source": [
    "!kubectl apply -f k8s/ambassador/sample-deployment.yaml"
   ]
  },
  {
   "cell_type": "code",
   "execution_count": 9,
   "metadata": {},
   "outputs": [
    {
     "name": "stdout",
     "output_type": "stream",
     "text": [
      "service/kubernetes-tutorial-service created\n"
     ]
    }
   ],
   "source": [
    "!kubectl apply -f k8s/ambassador/sample-service.yaml"
   ]
  },
  {
   "cell_type": "markdown",
   "metadata": {},
   "source": [
    "##### Installing cert-manager\n",
    "##### Referred to: https://auth0.com/blog/kubernetes-tutorial-managing-tls-certificates-with-ambassador/"
   ]
  },
  {
   "cell_type": "code",
   "execution_count": 10,
   "metadata": {},
   "outputs": [
    {
     "name": "stdout",
     "output_type": "stream",
     "text": [
      "namespace/cert-manager created\n"
     ]
    }
   ],
   "source": [
    "! kubectl create namespace cert-manager"
   ]
  },
  {
   "cell_type": "code",
   "execution_count": 11,
   "metadata": {},
   "outputs": [
    {
     "name": "stdout",
     "output_type": "stream",
     "text": [
      "namespace/cert-manager labeled\n"
     ]
    }
   ],
   "source": [
    "! kubectl label namespace cert-manager certmanager.k8s.io/disable-validation=true"
   ]
  },
  {
   "cell_type": "code",
   "execution_count": 50,
   "metadata": {},
   "outputs": [
    {
     "name": "stdout",
     "output_type": "stream",
     "text": [
      "deployment.extensions \"cert-manager\" deleted\n",
      "deployment.extensions \"cert-manager-cainjector\" deleted\n",
      "deployment.extensions \"cert-manager-webhook\" deleted\n"
     ]
    }
   ],
   "source": [
    "!kubectl delete -n cert-manager deployment cert-manager cert-manager-cainjector cert-manager-webhook"
   ]
  },
  {
   "cell_type": "code",
   "execution_count": 38,
   "metadata": {
    "collapsed": true,
    "jupyter": {
     "outputs_hidden": true
    }
   },
   "outputs": [
    {
     "name": "stdout",
     "output_type": "stream",
     "text": [
      "customresourcedefinition.apiextensions.k8s.io/certificaterequests.cert-manager.io unchanged\n",
      "customresourcedefinition.apiextensions.k8s.io/certificates.cert-manager.io unchanged\n",
      "customresourcedefinition.apiextensions.k8s.io/challenges.acme.cert-manager.io unchanged\n",
      "customresourcedefinition.apiextensions.k8s.io/clusterissuers.cert-manager.io unchanged\n",
      "customresourcedefinition.apiextensions.k8s.io/issuers.cert-manager.io unchanged\n",
      "customresourcedefinition.apiextensions.k8s.io/orders.acme.cert-manager.io unchanged\n",
      "namespace/cert-manager unchanged\n",
      "serviceaccount/cert-manager-cainjector unchanged\n",
      "serviceaccount/cert-manager unchanged\n",
      "serviceaccount/cert-manager-webhook unchanged\n",
      "clusterrole.rbac.authorization.k8s.io/cert-manager-cainjector unchanged\n",
      "clusterrole.rbac.authorization.k8s.io/cert-manager-controller-certificates unchanged\n",
      "clusterrole.rbac.authorization.k8s.io/cert-manager-controller-issuers unchanged\n",
      "clusterrole.rbac.authorization.k8s.io/cert-manager-view unchanged\n",
      "clusterrole.rbac.authorization.k8s.io/cert-manager-controller-orders unchanged\n",
      "clusterrole.rbac.authorization.k8s.io/cert-manager-controller-challenges unchanged\n",
      "clusterrole.rbac.authorization.k8s.io/cert-manager-controller-ingress-shim unchanged\n",
      "clusterrole.rbac.authorization.k8s.io/cert-manager-controller-clusterissuers unchanged\n",
      "clusterrole.rbac.authorization.k8s.io/cert-manager-edit unchanged\n",
      "clusterrolebinding.rbac.authorization.k8s.io/cert-manager-cainjector unchanged\n",
      "clusterrolebinding.rbac.authorization.k8s.io/cert-manager-controller-challenges unchanged\n",
      "clusterrolebinding.rbac.authorization.k8s.io/cert-manager-controller-issuers unchanged\n",
      "clusterrolebinding.rbac.authorization.k8s.io/cert-manager-controller-certificates unchanged\n",
      "clusterrolebinding.rbac.authorization.k8s.io/cert-manager-controller-orders unchanged\n",
      "clusterrolebinding.rbac.authorization.k8s.io/cert-manager-controller-clusterissuers unchanged\n",
      "clusterrolebinding.rbac.authorization.k8s.io/cert-manager-controller-ingress-shim unchanged\n",
      "role.rbac.authorization.k8s.io/cert-manager-cainjector:leaderelection unchanged\n",
      "role.rbac.authorization.k8s.io/cert-manager:leaderelection unchanged\n",
      "rolebinding.rbac.authorization.k8s.io/cert-manager-cainjector:leaderelection unchanged\n",
      "rolebinding.rbac.authorization.k8s.io/cert-manager:leaderelection configured\n",
      "service/cert-manager unchanged\n",
      "service/cert-manager-webhook unchanged\n",
      "deployment.apps/cert-manager-cainjector created\n",
      "deployment.apps/cert-manager created\n",
      "deployment.apps/cert-manager-webhook created\n",
      "mutatingwebhookconfiguration.admissionregistration.k8s.io/cert-manager-webhook configured\n",
      "validatingwebhookconfiguration.admissionregistration.k8s.io/cert-manager-webhook configured\n"
     ]
    }
   ],
   "source": [
    "!kubectl apply --validate=false -f https://github.com/jetstack/cert-manager/releases/download/v0.14.1/cert-manager.yaml"
   ]
  },
  {
   "cell_type": "code",
   "execution_count": 51,
   "metadata": {},
   "outputs": [
    {
     "name": "stdout",
     "output_type": "stream",
     "text": [
      "customresourcedefinition.apiextensions.k8s.io/challenges.acme.cert-manager.io configured\n",
      "customresourcedefinition.apiextensions.k8s.io/orders.acme.cert-manager.io configured\n",
      "customresourcedefinition.apiextensions.k8s.io/certificaterequests.cert-manager.io configured\n",
      "customresourcedefinition.apiextensions.k8s.io/certificates.cert-manager.io configured\n",
      "customresourcedefinition.apiextensions.k8s.io/clusterissuers.cert-manager.io configured\n",
      "customresourcedefinition.apiextensions.k8s.io/issuers.cert-manager.io configured\n",
      "namespace/cert-manager unchanged\n",
      "serviceaccount/cert-manager-cainjector unchanged\n",
      "serviceaccount/cert-manager unchanged\n",
      "serviceaccount/cert-manager-webhook unchanged\n",
      "clusterrole.rbac.authorization.k8s.io/cert-manager-cainjector unchanged\n",
      "clusterrolebinding.rbac.authorization.k8s.io/cert-manager-cainjector unchanged\n",
      "role.rbac.authorization.k8s.io/cert-manager-cainjector:leaderelection unchanged\n",
      "rolebinding.rbac.authorization.k8s.io/cert-manager-cainjector:leaderelection configured\n",
      "clusterrolebinding.rbac.authorization.k8s.io/cert-manager-webhook:auth-delegator configured\n",
      "rolebinding.rbac.authorization.k8s.io/cert-manager-webhook:webhook-authentication-reader configured\n",
      "clusterrole.rbac.authorization.k8s.io/cert-manager-webhook:webhook-requester unchanged\n",
      "role.rbac.authorization.k8s.io/cert-manager:leaderelection unchanged\n",
      "rolebinding.rbac.authorization.k8s.io/cert-manager:leaderelection configured\n",
      "clusterrole.rbac.authorization.k8s.io/cert-manager-controller-issuers unchanged\n",
      "clusterrole.rbac.authorization.k8s.io/cert-manager-controller-clusterissuers unchanged\n",
      "clusterrole.rbac.authorization.k8s.io/cert-manager-controller-certificates unchanged\n",
      "clusterrole.rbac.authorization.k8s.io/cert-manager-controller-orders unchanged\n",
      "clusterrole.rbac.authorization.k8s.io/cert-manager-controller-challenges unchanged\n",
      "clusterrole.rbac.authorization.k8s.io/cert-manager-controller-ingress-shim unchanged\n",
      "clusterrolebinding.rbac.authorization.k8s.io/cert-manager-controller-issuers unchanged\n",
      "clusterrolebinding.rbac.authorization.k8s.io/cert-manager-controller-clusterissuers unchanged\n",
      "clusterrolebinding.rbac.authorization.k8s.io/cert-manager-controller-certificates unchanged\n",
      "clusterrolebinding.rbac.authorization.k8s.io/cert-manager-controller-orders unchanged\n",
      "clusterrolebinding.rbac.authorization.k8s.io/cert-manager-controller-challenges unchanged\n",
      "clusterrolebinding.rbac.authorization.k8s.io/cert-manager-controller-ingress-shim unchanged\n",
      "clusterrole.rbac.authorization.k8s.io/cert-manager-view unchanged\n",
      "clusterrole.rbac.authorization.k8s.io/cert-manager-edit unchanged\n",
      "service/cert-manager unchanged\n",
      "service/cert-manager-webhook unchanged\n",
      "deployment.apps/cert-manager-cainjector created\n",
      "deployment.apps/cert-manager created\n",
      "deployment.apps/cert-manager-webhook created\n",
      "apiservice.apiregistration.k8s.io/v1beta1.webhook.cert-manager.io unchanged\n",
      "mutatingwebhookconfiguration.admissionregistration.k8s.io/cert-manager-webhook configured\n",
      "validatingwebhookconfiguration.admissionregistration.k8s.io/cert-manager-webhook configured\n"
     ]
    }
   ],
   "source": [
    "!kubectl apply -f https://github.com/jetstack/cert-manager/releases/download/v0.11.1/cert-manager.yaml"
   ]
  },
  {
   "cell_type": "code",
   "execution_count": 52,
   "metadata": {},
   "outputs": [
    {
     "name": "stdout",
     "output_type": "stream",
     "text": [
      "clusterissuer.cert-manager.io/letsencrypt-prod created\n"
     ]
    }
   ],
   "source": [
    "!kubectl apply -f k8s/ambassador/cluster-issuer.yaml"
   ]
  },
  {
   "cell_type": "code",
   "execution_count": 53,
   "metadata": {},
   "outputs": [
    {
     "name": "stdout",
     "output_type": "stream",
     "text": [
      "certificate.cert-manager.io/ambassador-certs created\n"
     ]
    }
   ],
   "source": [
    "!kubectl apply -f k8s/ambassador/certificate.yaml"
   ]
  },
  {
   "cell_type": "code",
   "execution_count": 56,
   "metadata": {},
   "outputs": [
    {
     "name": "stdout",
     "output_type": "stream",
     "text": [
      "mapping.getambassador.io/acme-challenge-mapping created\n",
      "service/acme-challenge-service created\n"
     ]
    }
   ],
   "source": [
    "!kubectl apply -f k8s/ambassador/acme-challenge.yaml"
   ]
  },
  {
   "cell_type": "code",
   "execution_count": 62,
   "metadata": {},
   "outputs": [
    {
     "name": "stdout",
     "output_type": "stream",
     "text": [
      "NAME                     TYPE                                  DATA   AGE\n",
      "ambassador-certs         kubernetes.io/tls                     3      5m19s\n",
      "ambassador-token-cw9z6   kubernetes.io/service-account-token   3      160m\n",
      "default-token-mz7xq      kubernetes.io/service-account-token   3      3h13m\n"
     ]
    }
   ],
   "source": [
    "!kubectl get secrets"
   ]
  },
  {
   "cell_type": "code",
   "execution_count": 68,
   "metadata": {},
   "outputs": [
    {
     "name": "stdout",
     "output_type": "stream",
     "text": [
      "host.getambassador.io/benubenu configured\n"
     ]
    }
   ],
   "source": [
    "!kubectl apply -f k8s/ambassador/host.yaml"
   ]
  },
  {
   "cell_type": "code",
   "execution_count": 63,
   "metadata": {},
   "outputs": [
    {
     "name": "stdout",
     "output_type": "stream",
     "text": [
      "Error from server (NotFound): certificates.certmanager.k8s.io \"ambassador-certs\" not found\n"
     ]
    }
   ],
   "source": [
    "! kubectl describe certificates ambassador-certs"
   ]
  },
  {
   "cell_type": "code",
   "execution_count": 34,
   "metadata": {},
   "outputs": [
    {
     "name": "stdout",
     "output_type": "stream",
     "text": [
      "NAME                                       READY   STATUS    RESTARTS   AGE\n",
      "cert-manager-665f89d4d6-8ftwp              1/1     Running   0          23s\n",
      "cert-manager-cainjector-78c8947f5c-96sh2   1/1     Running   0          24s\n",
      "cert-manager-webhook-84f59fdf49-hnj2b      1/1     Running   0          23s\n"
     ]
    }
   ],
   "source": [
    "!kubectl get pods -n cert-manager"
   ]
  },
  {
   "cell_type": "code",
   "execution_count": 36,
   "metadata": {},
   "outputs": [],
   "source": [
    "!kubectl logs -n cert-manager cert-manager-665f89d4d6-8ftwp  | grep acme-http-domain"
   ]
  },
  {
   "cell_type": "code",
   "execution_count": null,
   "metadata": {},
   "outputs": [],
   "source": []
  }
 ],
 "metadata": {
  "kernelspec": {
   "display_name": "Python 3",
   "language": "python",
   "name": "python3"
  },
  "language_info": {
   "codemirror_mode": {
    "name": "ipython",
    "version": 3
   },
   "file_extension": ".py",
   "mimetype": "text/x-python",
   "name": "python",
   "nbconvert_exporter": "python",
   "pygments_lexer": "ipython3",
   "version": "3.7.6"
  }
 },
 "nbformat": 4,
 "nbformat_minor": 4
}
